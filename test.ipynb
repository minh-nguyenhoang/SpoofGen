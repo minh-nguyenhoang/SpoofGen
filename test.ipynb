{
 "cells": [
  {
   "cell_type": "code",
   "execution_count": null,
   "metadata": {},
   "outputs": [],
   "source": [
    "from tqdm.auto import tqdm\n",
    "from time import sleep\n",
    "\n",
    "for i in (ep_bar:= tqdm(range(4), desc='1st loop')):\n",
    "    ep_bar.set_description(f'Epoch {i}')\n",
    "    for j in tqdm(range(5), desc='2nd loop', leave= False):\n",
    "        for k in tqdm(range(50), desc='3rd loop', leave=False):\n",
    "            sleep(0.01)"
   ]
  },
  {
   "cell_type": "code",
   "execution_count": 6,
   "metadata": {},
   "outputs": [
    {
     "name": "stdout",
     "output_type": "stream",
     "text": [
      "0 1\n",
      "1 2\n",
      "2 3\n",
      "3 4\n",
      "4 5\n",
      "5 6\n",
      "6 7\n",
      "7 8\n"
     ]
    }
   ],
   "source": [
    "for i, j in enumerate([1,2,3,4,5,6,7,8]):\n",
    "    print(i,j)"
   ]
  },
  {
   "cell_type": "code",
   "execution_count": 1,
   "metadata": {},
   "outputs": [],
   "source": [
    "import torch\n",
    "from VAEGAN.models.backbone.upblock import build_decoder_unet\n",
    "from VAEGAN.models.backbone.mobilenet import mobilenet\n",
    "from VAEGAN.models.backbone.resnet import resnet\n",
    "from VAEGAN.models.backbone.revnet import revnet\n",
    "from VAEGAN.models.generator import Encoder, Decoder, Generator\n",
    "from VAEGAN.models.conditional_generator import ConditionGenerator\n",
    "# decoder = build_decoder_unet(skip_z= True)\n",
    "\n",
    "N = 1\n",
    "x = torch.rand((N,3,256,256)).cuda()\n",
    "z = torch.rand((N,4,32,32)).cuda()"
   ]
  },
  {
   "cell_type": "code",
   "execution_count": 2,
   "metadata": {},
   "outputs": [],
   "source": [
    "# decoder = Decoder().cuda()"
   ]
  },
  {
   "cell_type": "code",
   "execution_count": 2,
   "metadata": {},
   "outputs": [],
   "source": [
    "model = revnet('50').cuda()"
   ]
  },
  {
   "cell_type": "code",
   "execution_count": 11,
   "metadata": {},
   "outputs": [],
   "source": [
    "for i in range(100):\n",
    "    resp = model(z)"
   ]
  },
  {
   "cell_type": "code",
   "execution_count": 4,
   "metadata": {},
   "outputs": [
    {
     "data": {
      "text/plain": [
       "torch.Size([2, 2, 3, 256, 256])"
      ]
     },
     "execution_count": 4,
     "metadata": {},
     "output_type": "execute_result"
    }
   ],
   "source": [
    "resp.shape"
   ]
  },
  {
   "cell_type": "code",
   "execution_count": 3,
   "metadata": {},
   "outputs": [],
   "source": [
    "con_gen = ConditionGenerator().cuda()\n",
    "encoder = Encoder('resnet-50').cuda()\n",
    "decoder = Decoder('revnet-50').cuda()\n",
    "gen = Generator(encoder= encoder, decoder= decoder, con_gen= con_gen)"
   ]
  },
  {
   "cell_type": "code",
   "execution_count": null,
   "metadata": {},
   "outputs": [],
   "source": [
    "for i in range(100):\n",
    "    gen_resp = gen(x)"
   ]
  },
  {
   "cell_type": "code",
   "execution_count": 4,
   "metadata": {},
   "outputs": [],
   "source": [
    "# gen_resp.shape"
   ]
  }
 ],
 "metadata": {
  "kernelspec": {
   "display_name": "Python 3",
   "language": "python",
   "name": "python3"
  },
  "language_info": {
   "codemirror_mode": {
    "name": "ipython",
    "version": 3
   },
   "file_extension": ".py",
   "mimetype": "text/x-python",
   "name": "python",
   "nbconvert_exporter": "python",
   "pygments_lexer": "ipython3",
   "version": "3.10.4"
  },
  "orig_nbformat": 4
 },
 "nbformat": 4,
 "nbformat_minor": 2
}
