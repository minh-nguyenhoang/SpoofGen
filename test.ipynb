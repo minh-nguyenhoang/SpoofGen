{
 "cells": [
  {
   "cell_type": "code",
   "execution_count": null,
   "metadata": {},
   "outputs": [],
   "source": [
    "from tqdm.auto import tqdm\n",
    "from time import sleep\n",
    "\n",
    "for i in (ep_bar:= tqdm(range(4), desc='1st loop')):\n",
    "    ep_bar.set_description(f'Epoch {i}')\n",
    "    for j in tqdm(range(5), desc='2nd loop', leave= False):\n",
    "        for k in tqdm(range(50), desc='3rd loop', leave=False):\n",
    "            sleep(0.01)"
   ]
  },
  {
   "cell_type": "code",
   "execution_count": 6,
   "metadata": {},
   "outputs": [
    {
     "name": "stdout",
     "output_type": "stream",
     "text": [
      "0 1\n",
      "1 2\n",
      "2 3\n",
      "3 4\n",
      "4 5\n",
      "5 6\n",
      "6 7\n",
      "7 8\n"
     ]
    }
   ],
   "source": [
    "for i, j in enumerate([1,2,3,4,5,6,7,8]):\n",
    "    print(i,j)"
   ]
  },
  {
   "cell_type": "code",
   "execution_count": 1,
   "metadata": {},
   "outputs": [],
   "source": [
    "import torch\n",
    "from spoof_gen.models.backbone.upblock import build_decoder_unet\n",
    "from spoof_gen.models.backbone.mobilenet import mobilenet\n",
    "from spoof_gen.models.backbone.resnet import resnet\n",
    "from spoof_gen.models.backbone.revnet import revnet\n",
    "from spoof_gen.models.generator import Encoder, Decoder, Generator\n",
    "from spoof_gen.models.conditional_generator import ConditionGenerator\n",
    "# decoder = build_decoder_unet(skip_z= True)\n",
    "\n",
    "N = 1\n",
    "x = torch.rand((N,3,256,256)).cuda()\n",
    "z = torch.rand((N,4,32,32)).cuda()"
   ]
  },
  {
   "cell_type": "code",
   "execution_count": 2,
   "metadata": {},
   "outputs": [],
   "source": [
    "# decoder = Decoder().cuda()"
   ]
  },
  {
   "cell_type": "code",
   "execution_count": 3,
   "metadata": {},
   "outputs": [],
   "source": [
    "con_gen = ConditionGenerator().cuda()\n",
    "encoder = Encoder('resnet-50').cuda()\n",
    "decoder = Decoder('revnet-50').cuda()\n",
    "gen = Generator(encoder= encoder, decoder= decoder, con_gen= con_gen)"
   ]
  },
  {
   "cell_type": "code",
   "execution_count": null,
   "metadata": {},
   "outputs": [],
   "source": [
    "for i in range(100):\n",
    "    gen_resp = gen(x)"
   ]
  },
  {
   "cell_type": "code",
   "execution_count": 4,
   "metadata": {},
   "outputs": [],
   "source": [
    "# gen_resp.shape"
   ]
  },
  {
   "cell_type": "code",
   "execution_count": 1,
   "metadata": {},
   "outputs": [
    {
     "name": "stdout",
     "output_type": "stream",
     "text": [
      "Collecting git+https://github.com/minh-nguyenhoang/SpoofGen\n",
      "  Cloning https://github.com/minh-nguyenhoang/SpoofGen to c:\\users\\admin\\appdata\\local\\temp\\pip-req-build-snw3vq52\n",
      "  Resolved https://github.com/minh-nguyenhoang/SpoofGen to commit b1a61cc671db988d38080cdf414ab09c7b78e233\n",
      "  Installing build dependencies: started\n",
      "  Installing build dependencies: finished with status 'done'\n",
      "  Getting requirements to build wheel: started\n",
      "  Getting requirements to build wheel: finished with status 'done'\n",
      "  Installing backend dependencies: started\n",
      "  Installing backend dependencies: finished with status 'done'\n",
      "  Preparing metadata (pyproject.toml): started\n",
      "  Preparing metadata (pyproject.toml): finished with status 'done'\n",
      "Requirement already satisfied: numpy in c:\\users\\admin\\appdata\\local\\programs\\python\\python310\\lib\\site-packages (from spoof-gen==0.0.1) (1.23.4)\n",
      "Requirement already satisfied: opencv-python in c:\\users\\admin\\appdata\\local\\programs\\python\\python310\\lib\\site-packages (from spoof-gen==0.0.1) (4.6.0.66)\n",
      "Building wheels for collected packages: spoof-gen\n",
      "  Building wheel for spoof-gen (pyproject.toml): started\n",
      "  Building wheel for spoof-gen (pyproject.toml): finished with status 'done'\n",
      "  Created wheel for spoof-gen: filename=spoof_gen-0.0.1-py3-none-any.whl size=14440 sha256=ba6dbabd1f5c5e9642de99bf6434b210741e0015886a7174db245b2a1b340b9a\n",
      "  Stored in directory: C:\\Users\\ADMIN\\AppData\\Local\\Temp\\pip-ephem-wheel-cache-a3za2jw9\\wheels\\85\\0f\\2a\\a314b5a9df81da73fc8ad53aab82c6bc91353e324084985683\n",
      "Successfully built spoof-gen\n",
      "Installing collected packages: spoof-gen\n",
      "Successfully installed spoof-gen-0.0.1\n"
     ]
    },
    {
     "name": "stderr",
     "output_type": "stream",
     "text": [
      "WARNING: Ignoring invalid distribution -pencv-python-headless (c:\\users\\admin\\appdata\\local\\programs\\python\\python310\\lib\\site-packages)\n",
      "WARNING: Ignoring invalid distribution -rotobuf (c:\\users\\admin\\appdata\\local\\programs\\python\\python310\\lib\\site-packages)\n",
      "  Running command git clone --filter=blob:none --quiet https://github.com/minh-nguyenhoang/SpoofGen 'C:\\Users\\ADMIN\\AppData\\Local\\Temp\\pip-req-build-snw3vq52'\n",
      "WARNING: Ignoring invalid distribution -pencv-python-headless (c:\\users\\admin\\appdata\\local\\programs\\python\\python310\\lib\\site-packages)\n",
      "WARNING: Ignoring invalid distribution -rotobuf (c:\\users\\admin\\appdata\\local\\programs\\python\\python310\\lib\\site-packages)\n",
      "\n",
      "[notice] A new release of pip is available: 23.1 -> 23.1.1\n",
      "[notice] To update, run: python.exe -m pip install --upgrade pip\n"
     ]
    }
   ],
   "source": [
    "!pip install git+https://github.com/minh-nguyenhoang/SpoofGen"
   ]
  },
  {
   "cell_type": "code",
   "execution_count": 2,
   "metadata": {},
   "outputs": [],
   "source": [
    "import spoof_gen"
   ]
  }
 ],
 "metadata": {
  "kernelspec": {
   "display_name": "Python 3",
   "language": "python",
   "name": "python3"
  },
  "language_info": {
   "codemirror_mode": {
    "name": "ipython",
    "version": 3
   },
   "file_extension": ".py",
   "mimetype": "text/x-python",
   "name": "python",
   "nbconvert_exporter": "python",
   "pygments_lexer": "ipython3",
   "version": "3.10.4"
  },
  "orig_nbformat": 4
 },
 "nbformat": 4,
 "nbformat_minor": 2
}
